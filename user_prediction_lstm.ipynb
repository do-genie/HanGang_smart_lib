{
  "nbformat": 4,
  "nbformat_minor": 0,
  "metadata": {
    "colab": {
      "provenance": [],
      "collapsed_sections": []
    },
    "kernelspec": {
      "name": "python3",
      "display_name": "Python 3"
    },
    "language_info": {
      "name": "python"
    }
  },
  "cells": [
    {
      "cell_type": "code",
      "execution_count": 1,
      "metadata": {
        "colab": {
          "base_uri": "https://localhost:8080/"
        },
        "id": "m0G7iLoKgDgF",
        "outputId": "c317f2f6-850a-4cbf-9501-8400b6ab9f79"
      },
      "outputs": [
        {
          "output_type": "stream",
          "name": "stdout",
          "text": [
            "Mounted at /content/drive\n"
          ]
        }
      ],
      "source": [
        "from google.colab import drive\n",
        "drive.mount('/content/drive')"
      ]
    },
    {
      "cell_type": "code",
      "source": [
        "import numpy as np # linear algebra\n",
        "import pandas as pd # data processing, CSV file I/O (e.g. pd.read_csv)\n",
        "import matplotlib.pyplot as plt\n",
        "import seaborn as sns\n",
        "import openpyxl"
      ],
      "metadata": {
        "id": "0wT0vB9fgosd"
      },
      "execution_count": 2,
      "outputs": []
    },
    {
      "cell_type": "code",
      "source": [
        "%cd /content/drive/My Drive/"
      ],
      "metadata": {
        "colab": {
          "base_uri": "https://localhost:8080/"
        },
        "id": "L1Yd8_QMgHYt",
        "outputId": "26b39dad-b35b-43fe-da80-06e58527e7b9"
      },
      "execution_count": 3,
      "outputs": [
        {
          "output_type": "stream",
          "name": "stdout",
          "text": [
            "/content/drive/My Drive\n"
          ]
        }
      ]
    },
    {
      "cell_type": "code",
      "source": [
        "!ls"
      ],
      "metadata": {
        "colab": {
          "base_uri": "https://localhost:8080/"
        },
        "id": "F8lmiF-xgI3B",
        "outputId": "ed5e9d54-4359-4c0e-a34a-0a4732780d32"
      },
      "execution_count": 4,
      "outputs": [
        {
          "output_type": "stream",
          "name": "stdout",
          "text": [
            "'컨텐츠 기반 필터링 사용한 반려식물 추천 서비스'\n",
            "'딥러닝 기법을 활용한 한정판 스니커즈 리셀 가능여부 및 가격 예측 프로젝트'\n",
            " 행운의편지\n",
            "'2017,18,20 여의도 한강공원 방문자수.xlsx'\n",
            "'2017-2019 이촌 한강공원 방문자수.xlsx'\n",
            "'2017-2019 난지 한강공원 방문자수.xlsx'\n",
            "'2019100889 산업경영공학과 이수진 (인공지능론 텀프로젝트).pptx'\n",
            " Classroom\n",
            "'Colab Notebooks'\n",
            "'ffh-bikk-mnd - 2022년 10월 17일 (1).gjam'\n",
            "'ffh-bikk-mnd - 2022년 10월 17일.gjam'\n",
            "'서울특별시 빅데이터 캠퍼스.gdoc'\n",
            "'할 일 목록.gsheet'\n",
            " kfood_final\n",
            " model\n",
            " nlp_liflow\n"
          ]
        }
      ]
    },
    {
      "cell_type": "markdown",
      "source": [
        "## 알아둬야 하는 사실\n",
        "\n",
        "```\n",
        "#데이터는 총\n",
        "'2017,18,20 여의도 한강공원 방문자수.xlsx'\n",
        "\n",
        "'2017-2019 이촌 한강공원 방문자수.xlsx'\n",
        "\n",
        "'2017-2019 난지 한강공원 방문자수.xlsx'\n",
        "\n",
        "로 3가지임! \n",
        "\n",
        "각자 맡은 공원을 read_excel('____________')에 적으면 됨\n",
        "\n",
        "나머지는 이거 바로 밑 블럭에 있는 파라미터 값 범위만 변경해주면 된다.\n",
        "\n",
        "결과는 캡쳐해서 노션에 올려주면 됨\n",
        "\n",
        "```\n",
        "\n",
        "여의도 2  / 파라미터 3 \n",
        "a = [1, 2, 3, 4, 5]\n",
        "b = [0.2, 0.3, 0.5]\n",
        "c = [3, 4, 5, 6, 7]\n",
        "\n",
        "이촌 1\n",
        "a = [1, 2, 3, 4, 5]\n",
        "b = [0.2, 0.3, 0.5]\n",
        "c = [3, 4, 5, 6, 7]\n",
        "\n",
        "난지 1 \n",
        "a = [1, 2, 3, 4, 5]\n",
        "b = [0.2, 0.3, 0.5]\n",
        "c = [3, 4, 5, 6, 7]\n",
        "\n"
      ],
      "metadata": {
        "id": "QtuVOpwpKx88"
      }
    },
    {
      "cell_type": "code",
      "source": [
        "import statsmodels.api as sm\n",
        "from sklearn.metrics import mean_squared_error\n",
        "from sklearn.metrics import r2_score\n",
        "from sklearn.metrics import median_absolute_error\n",
        "def RMSE(y_test, y_predict):\n",
        "    return np.sqrt(mean_squared_error(test_label, pred))\n",
        "activation = ['relu', 'sigmoid']\n",
        "output_dim_lstm = [16, 32, 64, 128, 256]\n",
        "output_dim_dense = [4, 8, 16]\n",
        "learning_rate = [0.0005, 0.001, 0.01, 0.1, 0.2, 0.3]\n",
        "epochs = [50, 100, 200, 300]\n",
        "batch_size = [5, 10, 20, 30, 40] "
      ],
      "metadata": {
        "id": "5JBChwcWKwqo"
      },
      "execution_count": 5,
      "outputs": []
    },
    {
      "cell_type": "code",
      "source": [
        "df = pd.read_excel('2017,18,20 여의도 한강공원 방문자수.xlsx', engine='openpyxl')\n",
        "df = df[['일반이용자(아침)',\t'일반이용자(낮)',\t'일반이용자(저녁)','합계']]\n",
        "df['일반이용자(아침)'] = df['일반이용자(아침)'].interpolate()\n",
        "df['일반이용자(낮)'] = df['일반이용자(낮)'].interpolate()\n",
        "df['일반이용자(저녁)'] = df['일반이용자(저녁)'].interpolate()\n",
        "df"
      ],
      "metadata": {
        "colab": {
          "base_uri": "https://localhost:8080/",
          "height": 424
        },
        "id": "Ti9l3yf6gMVs",
        "outputId": "c648ea86-d48e-4cd0-c9a2-d61f5e9bd489"
      },
      "execution_count": 6,
      "outputs": [
        {
          "output_type": "execute_result",
          "data": {
            "text/plain": [
              "      일반이용자(아침)  일반이용자(낮)  일반이용자(저녁)    합계\n",
              "0           550      2410     2310.0  5270\n",
              "1           237      3550     2443.0  6230\n",
              "2           503      3640     3354.0  7497\n",
              "3          2310      1697     3420.0  7427\n",
              "4           510      2484     2320.0  5314\n",
              "...         ...       ...        ...   ...\n",
              "1091        110      2000     2200.0  4310\n",
              "1092        230      2530     1580.0  4340\n",
              "1093        450       700     1270.0  2420\n",
              "1094         60       920      430.0  1410\n",
              "1095        110      1230     1330.0  2670\n",
              "\n",
              "[1096 rows x 4 columns]"
            ],
            "text/html": [
              "\n",
              "  <div id=\"df-a6aed47c-8d88-49ef-bd5c-a4f17f977b88\">\n",
              "    <div class=\"colab-df-container\">\n",
              "      <div>\n",
              "<style scoped>\n",
              "    .dataframe tbody tr th:only-of-type {\n",
              "        vertical-align: middle;\n",
              "    }\n",
              "\n",
              "    .dataframe tbody tr th {\n",
              "        vertical-align: top;\n",
              "    }\n",
              "\n",
              "    .dataframe thead th {\n",
              "        text-align: right;\n",
              "    }\n",
              "</style>\n",
              "<table border=\"1\" class=\"dataframe\">\n",
              "  <thead>\n",
              "    <tr style=\"text-align: right;\">\n",
              "      <th></th>\n",
              "      <th>일반이용자(아침)</th>\n",
              "      <th>일반이용자(낮)</th>\n",
              "      <th>일반이용자(저녁)</th>\n",
              "      <th>합계</th>\n",
              "    </tr>\n",
              "  </thead>\n",
              "  <tbody>\n",
              "    <tr>\n",
              "      <th>0</th>\n",
              "      <td>550</td>\n",
              "      <td>2410</td>\n",
              "      <td>2310.0</td>\n",
              "      <td>5270</td>\n",
              "    </tr>\n",
              "    <tr>\n",
              "      <th>1</th>\n",
              "      <td>237</td>\n",
              "      <td>3550</td>\n",
              "      <td>2443.0</td>\n",
              "      <td>6230</td>\n",
              "    </tr>\n",
              "    <tr>\n",
              "      <th>2</th>\n",
              "      <td>503</td>\n",
              "      <td>3640</td>\n",
              "      <td>3354.0</td>\n",
              "      <td>7497</td>\n",
              "    </tr>\n",
              "    <tr>\n",
              "      <th>3</th>\n",
              "      <td>2310</td>\n",
              "      <td>1697</td>\n",
              "      <td>3420.0</td>\n",
              "      <td>7427</td>\n",
              "    </tr>\n",
              "    <tr>\n",
              "      <th>4</th>\n",
              "      <td>510</td>\n",
              "      <td>2484</td>\n",
              "      <td>2320.0</td>\n",
              "      <td>5314</td>\n",
              "    </tr>\n",
              "    <tr>\n",
              "      <th>...</th>\n",
              "      <td>...</td>\n",
              "      <td>...</td>\n",
              "      <td>...</td>\n",
              "      <td>...</td>\n",
              "    </tr>\n",
              "    <tr>\n",
              "      <th>1091</th>\n",
              "      <td>110</td>\n",
              "      <td>2000</td>\n",
              "      <td>2200.0</td>\n",
              "      <td>4310</td>\n",
              "    </tr>\n",
              "    <tr>\n",
              "      <th>1092</th>\n",
              "      <td>230</td>\n",
              "      <td>2530</td>\n",
              "      <td>1580.0</td>\n",
              "      <td>4340</td>\n",
              "    </tr>\n",
              "    <tr>\n",
              "      <th>1093</th>\n",
              "      <td>450</td>\n",
              "      <td>700</td>\n",
              "      <td>1270.0</td>\n",
              "      <td>2420</td>\n",
              "    </tr>\n",
              "    <tr>\n",
              "      <th>1094</th>\n",
              "      <td>60</td>\n",
              "      <td>920</td>\n",
              "      <td>430.0</td>\n",
              "      <td>1410</td>\n",
              "    </tr>\n",
              "    <tr>\n",
              "      <th>1095</th>\n",
              "      <td>110</td>\n",
              "      <td>1230</td>\n",
              "      <td>1330.0</td>\n",
              "      <td>2670</td>\n",
              "    </tr>\n",
              "  </tbody>\n",
              "</table>\n",
              "<p>1096 rows × 4 columns</p>\n",
              "</div>\n",
              "      <button class=\"colab-df-convert\" onclick=\"convertToInteractive('df-a6aed47c-8d88-49ef-bd5c-a4f17f977b88')\"\n",
              "              title=\"Convert this dataframe to an interactive table.\"\n",
              "              style=\"display:none;\">\n",
              "        \n",
              "  <svg xmlns=\"http://www.w3.org/2000/svg\" height=\"24px\"viewBox=\"0 0 24 24\"\n",
              "       width=\"24px\">\n",
              "    <path d=\"M0 0h24v24H0V0z\" fill=\"none\"/>\n",
              "    <path d=\"M18.56 5.44l.94 2.06.94-2.06 2.06-.94-2.06-.94-.94-2.06-.94 2.06-2.06.94zm-11 1L8.5 8.5l.94-2.06 2.06-.94-2.06-.94L8.5 2.5l-.94 2.06-2.06.94zm10 10l.94 2.06.94-2.06 2.06-.94-2.06-.94-.94-2.06-.94 2.06-2.06.94z\"/><path d=\"M17.41 7.96l-1.37-1.37c-.4-.4-.92-.59-1.43-.59-.52 0-1.04.2-1.43.59L10.3 9.45l-7.72 7.72c-.78.78-.78 2.05 0 2.83L4 21.41c.39.39.9.59 1.41.59.51 0 1.02-.2 1.41-.59l7.78-7.78 2.81-2.81c.8-.78.8-2.07 0-2.86zM5.41 20L4 18.59l7.72-7.72 1.47 1.35L5.41 20z\"/>\n",
              "  </svg>\n",
              "      </button>\n",
              "      \n",
              "  <style>\n",
              "    .colab-df-container {\n",
              "      display:flex;\n",
              "      flex-wrap:wrap;\n",
              "      gap: 12px;\n",
              "    }\n",
              "\n",
              "    .colab-df-convert {\n",
              "      background-color: #E8F0FE;\n",
              "      border: none;\n",
              "      border-radius: 50%;\n",
              "      cursor: pointer;\n",
              "      display: none;\n",
              "      fill: #1967D2;\n",
              "      height: 32px;\n",
              "      padding: 0 0 0 0;\n",
              "      width: 32px;\n",
              "    }\n",
              "\n",
              "    .colab-df-convert:hover {\n",
              "      background-color: #E2EBFA;\n",
              "      box-shadow: 0px 1px 2px rgba(60, 64, 67, 0.3), 0px 1px 3px 1px rgba(60, 64, 67, 0.15);\n",
              "      fill: #174EA6;\n",
              "    }\n",
              "\n",
              "    [theme=dark] .colab-df-convert {\n",
              "      background-color: #3B4455;\n",
              "      fill: #D2E3FC;\n",
              "    }\n",
              "\n",
              "    [theme=dark] .colab-df-convert:hover {\n",
              "      background-color: #434B5C;\n",
              "      box-shadow: 0px 1px 3px 1px rgba(0, 0, 0, 0.15);\n",
              "      filter: drop-shadow(0px 1px 2px rgba(0, 0, 0, 0.3));\n",
              "      fill: #FFFFFF;\n",
              "    }\n",
              "  </style>\n",
              "\n",
              "      <script>\n",
              "        const buttonEl =\n",
              "          document.querySelector('#df-a6aed47c-8d88-49ef-bd5c-a4f17f977b88 button.colab-df-convert');\n",
              "        buttonEl.style.display =\n",
              "          google.colab.kernel.accessAllowed ? 'block' : 'none';\n",
              "\n",
              "        async function convertToInteractive(key) {\n",
              "          const element = document.querySelector('#df-a6aed47c-8d88-49ef-bd5c-a4f17f977b88');\n",
              "          const dataTable =\n",
              "            await google.colab.kernel.invokeFunction('convertToInteractive',\n",
              "                                                     [key], {});\n",
              "          if (!dataTable) return;\n",
              "\n",
              "          const docLinkHtml = 'Like what you see? Visit the ' +\n",
              "            '<a target=\"_blank\" href=https://colab.research.google.com/notebooks/data_table.ipynb>data table notebook</a>'\n",
              "            + ' to learn more about interactive tables.';\n",
              "          element.innerHTML = '';\n",
              "          dataTable['output_type'] = 'display_data';\n",
              "          await google.colab.output.renderOutput(dataTable, element);\n",
              "          const docLink = document.createElement('div');\n",
              "          docLink.innerHTML = docLinkHtml;\n",
              "          element.appendChild(docLink);\n",
              "        }\n",
              "      </script>\n",
              "    </div>\n",
              "  </div>\n",
              "  "
            ]
          },
          "metadata": {},
          "execution_count": 6
        }
      ]
    },
    {
      "cell_type": "code",
      "source": [
        "df_check=df.isna()\n",
        "\n",
        "check_for_any_nan= df.isna().values.any()\n",
        "# Or\n",
        "check_for_any_nan= df.isna().any().any()\n",
        "total_nan_values = df.isna().sum().sum()\n",
        "print(df_check)\n",
        "print(\"NaN Presence:\"+str(check_for_any_nan))\n",
        "print (\"Total Number of NaN values:\"+str(total_nan_values))"
      ],
      "metadata": {
        "colab": {
          "base_uri": "https://localhost:8080/"
        },
        "id": "secxNq97HAwT",
        "outputId": "1fed6ba1-653e-49fe-d8f5-431bfe7095fd"
      },
      "execution_count": 7,
      "outputs": [
        {
          "output_type": "stream",
          "name": "stdout",
          "text": [
            "      일반이용자(아침)  일반이용자(낮)  일반이용자(저녁)     합계\n",
            "0         False     False      False  False\n",
            "1         False     False      False  False\n",
            "2         False     False      False  False\n",
            "3         False     False      False  False\n",
            "4         False     False      False  False\n",
            "...         ...       ...        ...    ...\n",
            "1091      False     False      False  False\n",
            "1092      False     False      False  False\n",
            "1093      False     False      False  False\n",
            "1094      False     False      False  False\n",
            "1095      False     False      False  False\n",
            "\n",
            "[1096 rows x 4 columns]\n",
            "NaN Presence:False\n",
            "Total Number of NaN values:0\n"
          ]
        }
      ]
    },
    {
      "cell_type": "code",
      "source": [
        "from sklearn.preprocessing import MinMaxScaler\n",
        "\n",
        "#df.sort_index(ascending=False).reset_index(drop=True)\n",
        "\n",
        "scaler = MinMaxScaler()\n",
        "scale_cols = ['일반이용자(아침)',\t'일반이용자(낮)',\t'일반이용자(저녁)','합계']\n",
        "\n",
        "stocks_scaled = scaler.fit_transform(df[scale_cols])\n",
        "stocks_scaled = pd.DataFrame(stocks_scaled)\n",
        "stocks_scaled.columns = scale_cols\n",
        "stocks_scaled"
      ],
      "metadata": {
        "colab": {
          "base_uri": "https://localhost:8080/",
          "height": 424
        },
        "id": "O2t6-rW8hHYV",
        "outputId": "c18a3037-91c7-47fc-eb49-27e047aa4924"
      },
      "execution_count": 8,
      "outputs": [
        {
          "output_type": "execute_result",
          "data": {
            "text/plain": [
              "      일반이용자(아침)  일반이용자(낮)  일반이용자(저녁)        합계\n",
              "0      0.072700  0.006025   0.006230  0.006495\n",
              "1      0.026261  0.008973   0.006602  0.007780\n",
              "2      0.065727  0.009206   0.009147  0.009475\n",
              "3      0.333828  0.004181   0.009332  0.009382\n",
              "4      0.066766  0.006216   0.006258  0.006554\n",
              "...         ...       ...        ...       ...\n",
              "1091   0.007418  0.004965   0.005923  0.005210\n",
              "1092   0.025223  0.006335   0.004191  0.005250\n",
              "1093   0.057864  0.001603   0.003325  0.002681\n",
              "1094   0.000000  0.002172   0.000978  0.001329\n",
              "1095   0.007418  0.002974   0.003492  0.003015\n",
              "\n",
              "[1096 rows x 4 columns]"
            ],
            "text/html": [
              "\n",
              "  <div id=\"df-5b90587c-529f-41cb-93fc-0be77043dad3\">\n",
              "    <div class=\"colab-df-container\">\n",
              "      <div>\n",
              "<style scoped>\n",
              "    .dataframe tbody tr th:only-of-type {\n",
              "        vertical-align: middle;\n",
              "    }\n",
              "\n",
              "    .dataframe tbody tr th {\n",
              "        vertical-align: top;\n",
              "    }\n",
              "\n",
              "    .dataframe thead th {\n",
              "        text-align: right;\n",
              "    }\n",
              "</style>\n",
              "<table border=\"1\" class=\"dataframe\">\n",
              "  <thead>\n",
              "    <tr style=\"text-align: right;\">\n",
              "      <th></th>\n",
              "      <th>일반이용자(아침)</th>\n",
              "      <th>일반이용자(낮)</th>\n",
              "      <th>일반이용자(저녁)</th>\n",
              "      <th>합계</th>\n",
              "    </tr>\n",
              "  </thead>\n",
              "  <tbody>\n",
              "    <tr>\n",
              "      <th>0</th>\n",
              "      <td>0.072700</td>\n",
              "      <td>0.006025</td>\n",
              "      <td>0.006230</td>\n",
              "      <td>0.006495</td>\n",
              "    </tr>\n",
              "    <tr>\n",
              "      <th>1</th>\n",
              "      <td>0.026261</td>\n",
              "      <td>0.008973</td>\n",
              "      <td>0.006602</td>\n",
              "      <td>0.007780</td>\n",
              "    </tr>\n",
              "    <tr>\n",
              "      <th>2</th>\n",
              "      <td>0.065727</td>\n",
              "      <td>0.009206</td>\n",
              "      <td>0.009147</td>\n",
              "      <td>0.009475</td>\n",
              "    </tr>\n",
              "    <tr>\n",
              "      <th>3</th>\n",
              "      <td>0.333828</td>\n",
              "      <td>0.004181</td>\n",
              "      <td>0.009332</td>\n",
              "      <td>0.009382</td>\n",
              "    </tr>\n",
              "    <tr>\n",
              "      <th>4</th>\n",
              "      <td>0.066766</td>\n",
              "      <td>0.006216</td>\n",
              "      <td>0.006258</td>\n",
              "      <td>0.006554</td>\n",
              "    </tr>\n",
              "    <tr>\n",
              "      <th>...</th>\n",
              "      <td>...</td>\n",
              "      <td>...</td>\n",
              "      <td>...</td>\n",
              "      <td>...</td>\n",
              "    </tr>\n",
              "    <tr>\n",
              "      <th>1091</th>\n",
              "      <td>0.007418</td>\n",
              "      <td>0.004965</td>\n",
              "      <td>0.005923</td>\n",
              "      <td>0.005210</td>\n",
              "    </tr>\n",
              "    <tr>\n",
              "      <th>1092</th>\n",
              "      <td>0.025223</td>\n",
              "      <td>0.006335</td>\n",
              "      <td>0.004191</td>\n",
              "      <td>0.005250</td>\n",
              "    </tr>\n",
              "    <tr>\n",
              "      <th>1093</th>\n",
              "      <td>0.057864</td>\n",
              "      <td>0.001603</td>\n",
              "      <td>0.003325</td>\n",
              "      <td>0.002681</td>\n",
              "    </tr>\n",
              "    <tr>\n",
              "      <th>1094</th>\n",
              "      <td>0.000000</td>\n",
              "      <td>0.002172</td>\n",
              "      <td>0.000978</td>\n",
              "      <td>0.001329</td>\n",
              "    </tr>\n",
              "    <tr>\n",
              "      <th>1095</th>\n",
              "      <td>0.007418</td>\n",
              "      <td>0.002974</td>\n",
              "      <td>0.003492</td>\n",
              "      <td>0.003015</td>\n",
              "    </tr>\n",
              "  </tbody>\n",
              "</table>\n",
              "<p>1096 rows × 4 columns</p>\n",
              "</div>\n",
              "      <button class=\"colab-df-convert\" onclick=\"convertToInteractive('df-5b90587c-529f-41cb-93fc-0be77043dad3')\"\n",
              "              title=\"Convert this dataframe to an interactive table.\"\n",
              "              style=\"display:none;\">\n",
              "        \n",
              "  <svg xmlns=\"http://www.w3.org/2000/svg\" height=\"24px\"viewBox=\"0 0 24 24\"\n",
              "       width=\"24px\">\n",
              "    <path d=\"M0 0h24v24H0V0z\" fill=\"none\"/>\n",
              "    <path d=\"M18.56 5.44l.94 2.06.94-2.06 2.06-.94-2.06-.94-.94-2.06-.94 2.06-2.06.94zm-11 1L8.5 8.5l.94-2.06 2.06-.94-2.06-.94L8.5 2.5l-.94 2.06-2.06.94zm10 10l.94 2.06.94-2.06 2.06-.94-2.06-.94-.94-2.06-.94 2.06-2.06.94z\"/><path d=\"M17.41 7.96l-1.37-1.37c-.4-.4-.92-.59-1.43-.59-.52 0-1.04.2-1.43.59L10.3 9.45l-7.72 7.72c-.78.78-.78 2.05 0 2.83L4 21.41c.39.39.9.59 1.41.59.51 0 1.02-.2 1.41-.59l7.78-7.78 2.81-2.81c.8-.78.8-2.07 0-2.86zM5.41 20L4 18.59l7.72-7.72 1.47 1.35L5.41 20z\"/>\n",
              "  </svg>\n",
              "      </button>\n",
              "      \n",
              "  <style>\n",
              "    .colab-df-container {\n",
              "      display:flex;\n",
              "      flex-wrap:wrap;\n",
              "      gap: 12px;\n",
              "    }\n",
              "\n",
              "    .colab-df-convert {\n",
              "      background-color: #E8F0FE;\n",
              "      border: none;\n",
              "      border-radius: 50%;\n",
              "      cursor: pointer;\n",
              "      display: none;\n",
              "      fill: #1967D2;\n",
              "      height: 32px;\n",
              "      padding: 0 0 0 0;\n",
              "      width: 32px;\n",
              "    }\n",
              "\n",
              "    .colab-df-convert:hover {\n",
              "      background-color: #E2EBFA;\n",
              "      box-shadow: 0px 1px 2px rgba(60, 64, 67, 0.3), 0px 1px 3px 1px rgba(60, 64, 67, 0.15);\n",
              "      fill: #174EA6;\n",
              "    }\n",
              "\n",
              "    [theme=dark] .colab-df-convert {\n",
              "      background-color: #3B4455;\n",
              "      fill: #D2E3FC;\n",
              "    }\n",
              "\n",
              "    [theme=dark] .colab-df-convert:hover {\n",
              "      background-color: #434B5C;\n",
              "      box-shadow: 0px 1px 3px 1px rgba(0, 0, 0, 0.15);\n",
              "      filter: drop-shadow(0px 1px 2px rgba(0, 0, 0, 0.3));\n",
              "      fill: #FFFFFF;\n",
              "    }\n",
              "  </style>\n",
              "\n",
              "      <script>\n",
              "        const buttonEl =\n",
              "          document.querySelector('#df-5b90587c-529f-41cb-93fc-0be77043dad3 button.colab-df-convert');\n",
              "        buttonEl.style.display =\n",
              "          google.colab.kernel.accessAllowed ? 'block' : 'none';\n",
              "\n",
              "        async function convertToInteractive(key) {\n",
              "          const element = document.querySelector('#df-5b90587c-529f-41cb-93fc-0be77043dad3');\n",
              "          const dataTable =\n",
              "            await google.colab.kernel.invokeFunction('convertToInteractive',\n",
              "                                                     [key], {});\n",
              "          if (!dataTable) return;\n",
              "\n",
              "          const docLinkHtml = 'Like what you see? Visit the ' +\n",
              "            '<a target=\"_blank\" href=https://colab.research.google.com/notebooks/data_table.ipynb>data table notebook</a>'\n",
              "            + ' to learn more about interactive tables.';\n",
              "          element.innerHTML = '';\n",
              "          dataTable['output_type'] = 'display_data';\n",
              "          await google.colab.output.renderOutput(dataTable, element);\n",
              "          const docLink = document.createElement('div');\n",
              "          docLink.innerHTML = docLinkHtml;\n",
              "          element.appendChild(docLink);\n",
              "        }\n",
              "      </script>\n",
              "    </div>\n",
              "  </div>\n",
              "  "
            ]
          },
          "metadata": {},
          "execution_count": 8
        }
      ]
    },
    {
      "cell_type": "code",
      "source": [
        "TEST_SIZE = int(len(stocks_scaled)*0.2)\n",
        "print(TEST_SIZE)\n",
        "WINDOW_SIZE = 7\n",
        "\n",
        "train = stocks_scaled[:-TEST_SIZE]\n",
        "test = stocks_scaled[-TEST_SIZE:]"
      ],
      "metadata": {
        "colab": {
          "base_uri": "https://localhost:8080/"
        },
        "id": "kzcK0l37hq8_",
        "outputId": "9cdd951e-25f1-46f2-bb3b-79699eb2c60e"
      },
      "execution_count": 9,
      "outputs": [
        {
          "output_type": "stream",
          "name": "stdout",
          "text": [
            "219\n"
          ]
        }
      ]
    },
    {
      "cell_type": "code",
      "source": [
        "def make_dataset(data, label, window_size=7):\n",
        "    feature_list = []\n",
        "    label_list = []\n",
        "    for i in range(len(data) - window_size):\n",
        "        feature_list.append(np.array(data.iloc[i:i+window_size]))\n",
        "        label_list.append(np.array(label.iloc[i+window_size]))\n",
        "    return np.array(feature_list), np.array(label_list)"
      ],
      "metadata": {
        "id": "5EZSEBoCh0U9"
      },
      "execution_count": 10,
      "outputs": []
    },
    {
      "cell_type": "code",
      "source": [
        "from sklearn.model_selection import train_test_split\n",
        "\n",
        "feature_cols = ['일반이용자(아침)',\t'일반이용자(낮)',\t'일반이용자(저녁)','합계']\n",
        "label_cols = ['합계']\n",
        "\n",
        "train_feature = train[feature_cols]\n",
        "train_label = train[label_cols]\n",
        "\n",
        "train_feature, train_label = make_dataset(train_feature, train_label, 7)\n",
        "\n",
        "x_train, x_valid, y_train, y_valid = train_test_split(train_feature, train_label, test_size=0.2)\n",
        "x_train.shape, x_valid.shape"
      ],
      "metadata": {
        "colab": {
          "base_uri": "https://localhost:8080/"
        },
        "id": "xpiFpob3h2cH",
        "outputId": "5a2c7946-88c0-4b29-8e1e-bdd74806d1b8"
      },
      "execution_count": 11,
      "outputs": [
        {
          "output_type": "execute_result",
          "data": {
            "text/plain": [
              "((696, 7, 4), (174, 7, 4))"
            ]
          },
          "metadata": {},
          "execution_count": 11
        }
      ]
    },
    {
      "cell_type": "code",
      "source": [
        "test_feature = test[feature_cols]\n",
        "test_label = test[label_cols]\n",
        "\n",
        "test_feature.shape, test_label.shape"
      ],
      "metadata": {
        "colab": {
          "base_uri": "https://localhost:8080/"
        },
        "id": "W0LZ70j6h-rP",
        "outputId": "3a36e023-8301-4833-d74b-4ce7c0dd3cd8"
      },
      "execution_count": 12,
      "outputs": [
        {
          "output_type": "execute_result",
          "data": {
            "text/plain": [
              "((219, 4), (219, 1))"
            ]
          },
          "metadata": {},
          "execution_count": 12
        }
      ]
    },
    {
      "cell_type": "code",
      "source": [
        "test_feature, test_label = make_dataset(test_feature, test_label, 7)\n",
        "test_feature.shape, test_label.shape"
      ],
      "metadata": {
        "colab": {
          "base_uri": "https://localhost:8080/"
        },
        "id": "oBTkkoceiAGw",
        "outputId": "33197fab-e9e0-4ff6-980a-1aa109b453f8"
      },
      "execution_count": 13,
      "outputs": [
        {
          "output_type": "execute_result",
          "data": {
            "text/plain": [
              "((212, 7, 4), (212, 1))"
            ]
          },
          "metadata": {},
          "execution_count": 13
        }
      ]
    },
    {
      "cell_type": "code",
      "source": [
        "import tensorflow as tf\n",
        "import keras\n",
        "from tensorflow import keras\n",
        "from tensorflow.keras import Sequential\n",
        "from tensorflow.keras.layers import Dense\n",
        "from tensorflow.keras.callbacks import EarlyStopping, ModelCheckpoint\n",
        "from tensorflow.keras.layers import LSTM\n",
        "from keras.layers import Flatten\n",
        "from tensorflow.keras import Sequential\n",
        "from tensorflow.keras.layers import Dense, GRU, Dropout"
      ],
      "metadata": {
        "id": "TcTigqcQiC7B"
      },
      "execution_count": 14,
      "outputs": []
    },
    {
      "cell_type": "code",
      "source": [
        "q=0\n",
        "min_rmse = 1\n",
        "min_idx= 0\n",
        "grid_search = []\n",
        "for acti in activation:\n",
        "  for out_lstm in output_dim_lstm :\n",
        "    for out_dense in output_dim_dense:\n",
        "      for lr in learning_rate:\n",
        "        for batch in batch_size:\n",
        "          set = {}\n",
        "          model = tf.keras.Sequential()\n",
        "          model.add(LSTM(out_lstm, \n",
        "               input_shape=(train_feature.shape[1], train_feature.shape[2]), \n",
        "               activation='sigmoid', \n",
        "               return_sequences=False)\n",
        "          )\n",
        "          model.add(Dense(out_dense, activation='relu'))\n",
        "\n",
        "          model.add(Dense(1))\n",
        "\n",
        "          loss = Huber()\n",
        "          optimizer = Adam(lr)\n",
        "          model.compile(loss=Huber(), optimizer=optimizer, metrics=['mse'])\n",
        "          early_stop = EarlyStopping(monitor='val_loss', patience=5)\n",
        "\n",
        "          model_path = 'model'\n",
        "          filename = os.path.join(model_path, 'tmp_checkpoint.h5')\n",
        "          checkpoint = ModelCheckpoint(filename, monitor='val_loss', verbose=1, save_best_only=True, mode='auto')\n",
        "\n",
        "          history = model.fit(x_train, y_train, \n",
        "                                              epochs=200,  ###이거 본인이 설정\n",
        "                                              batch_size=batch,\n",
        "                                              validation_data=(x_valid, y_valid), \n",
        "                                              callbacks=[early_stop, checkpoint])\n",
        "          model.load_weights(filename)\n",
        "          pred = model.predict(test_feature)\n",
        "\n",
        "          pred.shape\n",
        "\n",
        "                    \n",
        "          mse = model.evaluate(test_feature , test_label, batch_size=batch)\n",
        "\n",
        "          rmse = RMSE(test_label, pred)\n",
        "\n",
        "          r2_y_predict = r2_score(test_label, pred)\n",
        "\n",
        "          set[\"activation\"] = acti\n",
        "          set[\"output_dim_lstm\"] = out_lstm\n",
        "          set[\"output_dim_dense\"] = out_dense\n",
        "          set[\"learning_rate\"] = lr\n",
        "          set[\"batch_size\"] = batch\n",
        "          set[\"MSE\"] = mse\n",
        "          set[\"R2\"] = r2_y_predict\n",
        "          set[\"RMSE\"] = rmse\n",
        "            \n",
        "\n",
        "\n",
        "          grid_search.append(set)\n",
        "                      \n",
        "          if rmse < min_rmse:\n",
        "            min_rmse = rmse\n",
        "            print(min_rmse)\n",
        "            min_idx = q\n",
        "            print(set)\n",
        "                  \n",
        "            q+=1"
      ],
      "metadata": {
        "id": "3tygmK_0OxIe"
      },
      "execution_count": null,
      "outputs": []
    },
    {
      "cell_type": "code",
      "source": [
        "print(set)"
      ],
      "metadata": {
        "id": "yqKwSAoFSIC_"
      },
      "execution_count": null,
      "outputs": []
    },
    {
      "cell_type": "markdown",
      "source": [
        "## 여기서부터 건들 ㄴㄴ\n"
      ],
      "metadata": {
        "id": "t50arYWOi4as"
      }
    },
    {
      "cell_type": "code",
      "source": [
        "model = tf.keras.Sequential()\n",
        "model.add(LSTM(64, \n",
        "               input_shape=(train_feature.shape[1], train_feature.shape[2]), \n",
        "               activation='sigmoid', \n",
        "               return_sequences=False)\n",
        "          )\n",
        "model.add(Dense(16, activation='relu'))\n",
        "#model.add(Flatten())\n",
        "model.add(Dense(1))"
      ],
      "metadata": {
        "id": "8W7EMU_UiKi7"
      },
      "execution_count": 42,
      "outputs": []
    },
    {
      "cell_type": "code",
      "source": [
        "import os\n",
        "from tensorflow.keras.losses import Huber\n",
        "from tensorflow.keras.optimizers import Adam\n",
        "loss = Huber()\n",
        "optimizer = Adam(0.0005)\n",
        "model.compile(loss=Huber(), optimizer=optimizer, metrics=['mse'])\n",
        "early_stop = EarlyStopping(monitor='val_loss', patience=5)\n",
        "\n",
        "model_path = 'model'\n",
        "filename = os.path.join(model_path, 'tmp_checkpoint.h5')\n",
        "checkpoint = ModelCheckpoint(filename, monitor='val_loss', verbose=1, save_best_only=True, mode='auto')\n",
        "\n",
        "history = model.fit(x_train, y_train, \n",
        "                                    epochs=200, \n",
        "                                    batch_size=5,\n",
        "                                    validation_data=(x_valid, y_valid), \n",
        "                                    callbacks=[early_stop, checkpoint])"
      ],
      "metadata": {
        "colab": {
          "base_uri": "https://localhost:8080/"
        },
        "id": "D1aykEIEiNVj",
        "outputId": "c30f3f0e-8970-4758-a208-2e49cc9b3c35"
      },
      "execution_count": 43,
      "outputs": [
        {
          "output_type": "stream",
          "name": "stdout",
          "text": [
            "Epoch 1/200\n",
            "137/140 [============================>.] - ETA: 0s - loss: 0.0312 - mse: 0.0625\n",
            "Epoch 1: val_loss improved from inf to 0.00014, saving model to model/tmp_checkpoint.h5\n",
            "140/140 [==============================] - 3s 10ms/step - loss: 0.0307 - mse: 0.0615 - val_loss: 1.4104e-04 - val_mse: 2.8208e-04\n",
            "Epoch 2/200\n",
            "134/140 [===========================>..] - ETA: 0s - loss: 0.0015 - mse: 0.0031\n",
            "Epoch 2: val_loss improved from 0.00014 to 0.00007, saving model to model/tmp_checkpoint.h5\n",
            "140/140 [==============================] - 1s 7ms/step - loss: 0.0015 - mse: 0.0030 - val_loss: 6.6431e-05 - val_mse: 1.3286e-04\n",
            "Epoch 3/200\n",
            "133/140 [===========================>..] - ETA: 0s - loss: 0.0015 - mse: 0.0029\n",
            "Epoch 3: val_loss did not improve from 0.00007\n",
            "140/140 [==============================] - 1s 7ms/step - loss: 0.0014 - mse: 0.0028 - val_loss: 7.0871e-05 - val_mse: 1.4174e-04\n",
            "Epoch 4/200\n",
            "133/140 [===========================>..] - ETA: 0s - loss: 0.0015 - mse: 0.0030\n",
            "Epoch 4: val_loss did not improve from 0.00007\n",
            "140/140 [==============================] - 1s 6ms/step - loss: 0.0014 - mse: 0.0028 - val_loss: 6.6708e-05 - val_mse: 1.3342e-04\n",
            "Epoch 5/200\n",
            "131/140 [===========================>..] - ETA: 0s - loss: 0.0014 - mse: 0.0028\n",
            "Epoch 5: val_loss improved from 0.00007 to 0.00006, saving model to model/tmp_checkpoint.h5\n",
            "140/140 [==============================] - 1s 7ms/step - loss: 0.0013 - mse: 0.0026 - val_loss: 6.1659e-05 - val_mse: 1.2332e-04\n",
            "Epoch 6/200\n",
            "135/140 [===========================>..] - ETA: 0s - loss: 3.6936e-04 - mse: 7.3871e-04\n",
            "Epoch 6: val_loss did not improve from 0.00006\n",
            "140/140 [==============================] - 1s 6ms/step - loss: 0.0012 - mse: 0.0024 - val_loss: 0.0018 - val_mse: 0.0035\n",
            "Epoch 7/200\n",
            "130/140 [==========================>...] - ETA: 0s - loss: 0.0014 - mse: 0.0029\n",
            "Epoch 7: val_loss improved from 0.00006 to 0.00006, saving model to model/tmp_checkpoint.h5\n",
            "140/140 [==============================] - 1s 7ms/step - loss: 0.0013 - mse: 0.0027 - val_loss: 6.1132e-05 - val_mse: 1.2226e-04\n",
            "Epoch 8/200\n",
            "132/140 [===========================>..] - ETA: 0s - loss: 0.0013 - mse: 0.0027\n",
            "Epoch 8: val_loss did not improve from 0.00006\n",
            "140/140 [==============================] - 1s 7ms/step - loss: 0.0013 - mse: 0.0025 - val_loss: 6.3261e-05 - val_mse: 1.2652e-04\n",
            "Epoch 9/200\n",
            "138/140 [============================>.] - ETA: 0s - loss: 0.0013 - mse: 0.0026\n",
            "Epoch 9: val_loss did not improve from 0.00006\n",
            "140/140 [==============================] - 1s 7ms/step - loss: 0.0013 - mse: 0.0025 - val_loss: 4.2686e-04 - val_mse: 8.5372e-04\n",
            "Epoch 10/200\n",
            "140/140 [==============================] - ETA: 0s - loss: 0.0013 - mse: 0.0025\n",
            "Epoch 10: val_loss did not improve from 0.00006\n",
            "140/140 [==============================] - 1s 6ms/step - loss: 0.0013 - mse: 0.0025 - val_loss: 6.4019e-05 - val_mse: 1.2804e-04\n",
            "Epoch 11/200\n",
            "138/140 [============================>.] - ETA: 0s - loss: 0.0013 - mse: 0.0025\n",
            "Epoch 11: val_loss did not improve from 0.00006\n",
            "140/140 [==============================] - 1s 6ms/step - loss: 0.0012 - mse: 0.0025 - val_loss: 1.7725e-04 - val_mse: 3.5449e-04\n",
            "Epoch 12/200\n",
            "133/140 [===========================>..] - ETA: 0s - loss: 0.0014 - mse: 0.0027\n",
            "Epoch 12: val_loss did not improve from 0.00006\n",
            "140/140 [==============================] - 1s 7ms/step - loss: 0.0013 - mse: 0.0026 - val_loss: 6.8802e-05 - val_mse: 1.3760e-04\n"
          ]
        }
      ]
    },
    {
      "cell_type": "code",
      "source": [
        "model.load_weights(filename)\n",
        "pred = model.predict(test_feature)\n",
        "\n",
        "pred.shape"
      ],
      "metadata": {
        "colab": {
          "base_uri": "https://localhost:8080/"
        },
        "id": "wBzy9CFXiSYE",
        "outputId": "b6d29ca1-b26f-47db-d12e-5bcfa8d43f05"
      },
      "execution_count": 44,
      "outputs": [
        {
          "output_type": "stream",
          "name": "stdout",
          "text": [
            "7/7 [==============================] - 0s 3ms/step\n"
          ]
        },
        {
          "output_type": "execute_result",
          "data": {
            "text/plain": [
              "(212, 1)"
            ]
          },
          "metadata": {},
          "execution_count": 44
        }
      ]
    },
    {
      "cell_type": "code",
      "source": [
        "print(test_feature)"
      ],
      "metadata": {
        "colab": {
          "base_uri": "https://localhost:8080/"
        },
        "id": "QgYxUySUG0M_",
        "outputId": "bab3f483-0345-4065-b132-cba90fc385e7"
      },
      "execution_count": 45,
      "outputs": [
        {
          "output_type": "stream",
          "name": "stdout",
          "text": [
            "[[[0.12462908 0.02565163 0.01654001 0.0220596 ]\n",
            "  [0.13204748 0.02306578 0.01654001 0.02078819]\n",
            "  [0.13946588 0.02565163 0.01933393 0.02353176]\n",
            "  ...\n",
            "  [0.15430267 0.03728796 0.02631873 0.03303386]\n",
            "  [0.12462908 0.01789408 0.01654001 0.01804463]\n",
            "  [0.0504451  0.00884361 0.01095217 0.01001468]]\n",
            "\n",
            " [[0.13204748 0.02306578 0.01654001 0.02078819]\n",
            "  [0.13946588 0.02565163 0.01933393 0.02353176]\n",
            "  [0.15430267 0.02823748 0.02771569 0.02901889]\n",
            "  ...\n",
            "  [0.12462908 0.01789408 0.01654001 0.01804463]\n",
            "  [0.0504451  0.00884361 0.01095217 0.01001468]\n",
            "  [0.12462908 0.02306578 0.01654001 0.02072128]]\n",
            "\n",
            " [[0.13946588 0.02565163 0.01933393 0.02353176]\n",
            "  [0.15430267 0.02823748 0.02771569 0.02901889]\n",
            "  [0.15430267 0.03728796 0.02631873 0.03303386]\n",
            "  ...\n",
            "  [0.0504451  0.00884361 0.01095217 0.01001468]\n",
            "  [0.12462908 0.02306578 0.01654001 0.02072128]\n",
            "  [0.13204748 0.02306578 0.01654001 0.02078819]]\n",
            "\n",
            " ...\n",
            "\n",
            " [[0.07418398 0.00281858 0.00226308 0.00294833]\n",
            "  [0.0074184  0.00346504 0.00318507 0.00312231]\n",
            "  [0.03264095 0.00524928 0.00328286 0.00432011]\n",
            "  ...\n",
            "  [0.07418398 0.00478382 0.00310125 0.00436695]\n",
            "  [0.0074184  0.00496483 0.00592311 0.0052101 ]\n",
            "  [0.02522255 0.00633533 0.00419088 0.00525025]]\n",
            "\n",
            " [[0.0074184  0.00346504 0.00318507 0.00312231]\n",
            "  [0.03264095 0.00524928 0.00328286 0.00432011]\n",
            "  [0.08160237 0.00186181 0.00547608 0.00405914]\n",
            "  ...\n",
            "  [0.0074184  0.00496483 0.00592311 0.0052101 ]\n",
            "  [0.02522255 0.00633533 0.00419088 0.00525025]\n",
            "  [0.0578635  0.00160323 0.00332477 0.00268066]]\n",
            "\n",
            " [[0.03264095 0.00524928 0.00328286 0.00432011]\n",
            "  [0.08160237 0.00186181 0.00547608 0.00405914]\n",
            "  [0.07418398 0.00478382 0.00310125 0.00436695]\n",
            "  ...\n",
            "  [0.02522255 0.00633533 0.00419088 0.00525025]\n",
            "  [0.0578635  0.00160323 0.00332477 0.00268066]\n",
            "  [0.         0.00217211 0.00097787 0.00132896]]]\n"
          ]
        }
      ]
    },
    {
      "cell_type": "code",
      "source": [
        "import statsmodels.api as sm\n",
        "mse,mae = model.evaluate(test_feature , test_label, batch_size=16)\n",
        "print(\"mse : \", mse)\n",
        "print(\"mae : \", mae)\n",
        "from sklearn.metrics import mean_squared_error\n",
        "def RMSE(y_test, y_predict):\n",
        "    return np.sqrt(mean_squared_error(test_label, pred))\n",
        "print('RMSE : ', RMSE(test_label, pred))\n",
        "\n",
        "from sklearn.metrics import r2_score\n",
        "r2_y_predict = r2_score(test_label, pred)\n",
        "print('R2 : ', r2_y_predict)\n",
        "\n",
        "from sklearn.metrics import median_absolute_error\n",
        "MedAE_y_predict = median_absolute_error(test_label, pred)\n",
        "print('MedAE : ', MedAE_y_predict)"
      ],
      "metadata": {
        "id": "8ASCaLYJmi9t",
        "colab": {
          "base_uri": "https://localhost:8080/"
        },
        "outputId": "168d995a-f730-4bc0-faf8-cc07dbffccac"
      },
      "execution_count": 46,
      "outputs": [
        {
          "output_type": "stream",
          "name": "stdout",
          "text": [
            "14/14 [==============================] - 0s 2ms/step - loss: 1.4578e-05 - mse: 2.9155e-05\n",
            "mse :  1.457759481127141e-05\n",
            "mae :  2.915518962254282e-05\n",
            "RMSE :  0.005399555005171011\n",
            "R2 :  0.5794035368710276\n",
            "MedAE :  0.003870673756862116\n"
          ]
        }
      ]
    },
    {
      "cell_type": "code",
      "source": [
        "plt.figure(figsize=(12, 9))\n",
        "plt.plot(test_label, label = 'actual')\n",
        "plt.plot(pred, label = 'prediction')\n",
        "plt.legend()\n",
        "plt.show()"
      ],
      "metadata": {
        "colab": {
          "base_uri": "https://localhost:8080/",
          "height": 537
        },
        "id": "FP7Wpq5fiWYa",
        "outputId": "80e4914c-d492-4fa1-d4cc-ef7bfe853696"
      },
      "execution_count": 47,
      "outputs": [
        {
          "output_type": "display_data",
          "data": {
            "text/plain": [
              "<Figure size 864x648 with 1 Axes>"
            ],
            "image/png": "[encoded data removed]"
          },
          "metadata": {
            "needs_background": "light"
          }
        }
      ]
    },
    {
      "cell_type": "code",
      "source": [],
      "metadata": {
        "id": "PVx-lksMiY_l"
      },
      "execution_count": null,
      "outputs": []
    }
  ]
}